{
 "cells": [
  {
   "cell_type": "code",
   "execution_count": 40,
   "id": "47414083",
   "metadata": {},
   "outputs": [],
   "source": [
    "import time\n",
    "from selenium import webdriver\n",
    "from selenium.webdriver.common.by import By\n",
    "from webdriver_manager.chrome import ChromeDriverManager\n",
    "from pynput.keyboard import Key, Controller\n",
    "from selenium.webdriver.common.proxy import Proxy, ProxyType\n"
   ]
  },
  {
   "cell_type": "code",
   "execution_count": 42,
   "id": "79ae48e0",
   "metadata": {},
   "outputs": [
    {
     "name": "stderr",
     "output_type": "stream",
     "text": [
      "C:\\Users\\GSD Beast N10\\AppData\\Local\\Temp\\ipykernel_43860\\1489547228.py:6: DeprecationWarning: executable_path has been deprecated, please pass in a Service object\n",
      "  driver = webdriver.Chrome(path, chrome_options=op)\n",
      "C:\\Users\\GSD Beast N10\\AppData\\Local\\Temp\\ipykernel_43860\\1489547228.py:6: DeprecationWarning: use options instead of chrome_options\n",
      "  driver = webdriver.Chrome(path, chrome_options=op)\n"
     ]
    }
   ],
   "source": [
    "op = webdriver.ChromeOptions()\n",
    "# op.add_argument('headless')\n",
    "op.add_argument(\"--disable-infobars\")\n",
    "op.add_experimental_option('detach', True)\n",
    "path = ChromeDriverManager().install()\n",
    "driver = webdriver.Chrome(path, chrome_options=op)\n",
    "url = 'https://accounts.spotify.com/en/login'\n",
    "driver.get(url)"
   ]
  },
  {
   "cell_type": "code",
   "execution_count": 43,
   "id": "160845b3",
   "metadata": {},
   "outputs": [],
   "source": [
    "email_input = driver.find_element(By.XPATH, '//*[@id=\"login-username\"]')\n",
    "email_input.send_keys('barbaramunoz176@gmail.com')"
   ]
  },
  {
   "cell_type": "code",
   "execution_count": 44,
   "id": "5ebd6163",
   "metadata": {},
   "outputs": [],
   "source": [
    "password_input = driver.find_element(By.XPATH, '//*[@id=\"login-password\"]')\n",
    "password_input.send_keys('077108803GBH')"
   ]
  },
  {
   "cell_type": "code",
   "execution_count": 46,
   "id": "1d535ac6",
   "metadata": {},
   "outputs": [],
   "source": [
    "driver.find_element(By.XPATH, '//*[@id=\"login-button\"]').click()"
   ]
  },
  {
   "cell_type": "code",
   "execution_count": 47,
   "id": "5d9e792d",
   "metadata": {},
   "outputs": [],
   "source": [
    "driver.get('https://open.spotify.com/track/7z4aeGWXxTo199Qqs6nCUZ')"
   ]
  },
  {
   "cell_type": "code",
   "execution_count": 48,
   "id": "fbecc1a4",
   "metadata": {},
   "outputs": [],
   "source": [
    "driver.find_element(By.XPATH, '//*[@id=\"main\"]/div/div[2]/div[3]/div[1]/div[2]/div[2]/div/div/div[2]/main/section/div[3]/div[4]/div/div/div/div/div/button').click()"
   ]
  },
  {
   "cell_type": "code",
   "execution_count": 49,
   "id": "164c6d96",
   "metadata": {},
   "outputs": [],
   "source": [
    "driver.find_element(By.XPATH, '//*[@id=\"main\"]/div/div[2]/div[3]/div[1]/div[2]/div[2]/div/div/div[2]/main/section/div[3]/div[4]/div/div/div/div/button[1]').click()"
   ]
  },
  {
   "cell_type": "code",
   "execution_count": null,
   "id": "00d464b5",
   "metadata": {},
   "outputs": [],
   "source": []
  }
 ],
 "metadata": {
  "kernelspec": {
   "display_name": "Python 3 (ipykernel)",
   "language": "python",
   "name": "python3"
  },
  "language_info": {
   "codemirror_mode": {
    "name": "ipython",
    "version": 3
   },
   "file_extension": ".py",
   "mimetype": "text/x-python",
   "name": "python",
   "nbconvert_exporter": "python",
   "pygments_lexer": "ipython3",
   "version": "3.11.0"
  }
 },
 "nbformat": 4,
 "nbformat_minor": 5
}
