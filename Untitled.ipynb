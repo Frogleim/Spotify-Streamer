{
 "cells": [
  {
   "cell_type": "code",
   "execution_count": 9,
   "id": "a8a7045e",
   "metadata": {},
   "outputs": [],
   "source": [
    "import undetected_chromedriver as uc\n",
    "from selenium.webdriver.common.by import By\n",
    "import time\n",
    "from selenium.webdriver.support.ui import Select\n"
   ]
  },
  {
   "cell_type": "code",
   "execution_count": 2,
   "id": "45e6dc22",
   "metadata": {},
   "outputs": [],
   "source": [
    "driver = uc.Chrome()\n",
    "driver.get('https://www.spotify.com/us/signup?forward_url=https%3A%2F%2Fopen.spotify.com%2F')"
   ]
  },
  {
   "cell_type": "code",
   "execution_count": 4,
   "id": "367659b2",
   "metadata": {},
   "outputs": [],
   "source": [
    "email = driver.find_element(By.XPATH, \"/html/body/div[1]/main/div/div/form/div[1]/input\")\n",
    "email.send_keys(\"rodneymatthews146@gmail.com\")"
   ]
  },
  {
   "cell_type": "code",
   "execution_count": 6,
   "id": "7e920f4c",
   "metadata": {},
   "outputs": [],
   "source": [
    "re_email = driver.find_element(By.XPATH, \"/html/body/div[1]/main/div/div/form/div[2]/input\")\n",
    "re_email.send_keys(\"rodneymatthews146@gmail.com\")"
   ]
  },
  {
   "cell_type": "code",
   "execution_count": 7,
   "id": "a3ac299b",
   "metadata": {},
   "outputs": [],
   "source": [
    "password = driver.find_element(By.XPATH, \"/html/body/div[1]/main/div/div/form/div[3]/div[3]/input\")\n",
    "password.send_keys(\"077108803Gb\")"
   ]
  },
  {
   "cell_type": "code",
   "execution_count": 8,
   "id": "76cec3c7",
   "metadata": {},
   "outputs": [],
   "source": [
    "username = driver.find_element(By.XPATH, \"/html/body/div[1]/main/div/div/form/div[4]/input\")\n",
    "username.send_keys(\"rodneymatthews\")"
   ]
  },
  {
   "cell_type": "code",
   "execution_count": 10,
   "id": "01e79dc0",
   "metadata": {},
   "outputs": [],
   "source": [
    "drop_months = driver.find_element(By.XPATH, \"/html/body/div[1]/main/div/div/form/div[5]/div[2]/div[1]/div/div[2]/select\")"
   ]
  },
  {
   "cell_type": "code",
   "execution_count": 11,
   "id": "f512c40d",
   "metadata": {},
   "outputs": [],
   "source": [
    "select_months = Select(drop_months)\n"
   ]
  },
  {
   "cell_type": "code",
   "execution_count": 14,
   "id": "6746f69c",
   "metadata": {},
   "outputs": [],
   "source": [
    "select_months.select_by_visible_text(\"Ocak\")\n"
   ]
  },
  {
   "cell_type": "code",
   "execution_count": 16,
   "id": "df292d68",
   "metadata": {},
   "outputs": [],
   "source": [
    "day = driver.find_element(By.XPATH, \"/html/body/div[1]/main/div/div/form/div[5]/div[2]/div[2]/div/input\")\n",
    "day.send_keys(\"22\")"
   ]
  },
  {
   "cell_type": "code",
   "execution_count": 18,
   "id": "afdafb88",
   "metadata": {},
   "outputs": [],
   "source": [
    "year = driver.find_element(By.XPATH, \"/html/body/div[1]/main/div/div/form/div[5]/div[2]/div[3]/div/input\")\n",
    "year.send_keys(\"1995\")"
   ]
  },
  {
   "cell_type": "code",
   "execution_count": 20,
   "id": "15c96c59",
   "metadata": {},
   "outputs": [],
   "source": [
    "female = driver.find_element(By.XPATH, \"/html/body/div[1]/main/div/div/form/fieldset/div/div[2]/label/span[1]\")\n",
    "female.click()"
   ]
  },
  {
   "cell_type": "code",
   "execution_count": 21,
   "id": "c30b0d10",
   "metadata": {},
   "outputs": [],
   "source": [
    "aggrements = driver.find_element(By.XPATH, \"/html/body/div[1]/main/div/div/form/div[6]/div/label/span[1]\")\n",
    "aggrements.click()"
   ]
  },
  {
   "cell_type": "code",
   "execution_count": 22,
   "id": "9e1f89f5",
   "metadata": {},
   "outputs": [],
   "source": [
    "login = driver.find_element(By.XPATH, '/html/body/div[1]/main/div/div/form/div[7]/div/button/span[1]')\n",
    "login.click()"
   ]
  },
  {
   "cell_type": "code",
   "execution_count": null,
   "id": "b8af45a5",
   "metadata": {},
   "outputs": [],
   "source": []
  }
 ],
 "metadata": {
  "kernelspec": {
   "display_name": "Python 3 (ipykernel)",
   "language": "python",
   "name": "python3"
  },
  "language_info": {
   "codemirror_mode": {
    "name": "ipython",
    "version": 3
   },
   "file_extension": ".py",
   "mimetype": "text/x-python",
   "name": "python",
   "nbconvert_exporter": "python",
   "pygments_lexer": "ipython3",
   "version": "3.11.3"
  }
 },
 "nbformat": 4,
 "nbformat_minor": 5
}
